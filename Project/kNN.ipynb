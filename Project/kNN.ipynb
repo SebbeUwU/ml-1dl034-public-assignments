{
 "cells": [
  {
   "cell_type": "code",
   "execution_count": 24,
   "metadata": {},
   "outputs": [
    {
     "name": "stdout",
     "output_type": "stream",
     "text": [
      "Printing \u001b[95mwith \u001b[92mpretty \u001b[91mcolors\u001b[0m\u001b[1m!\u001b[0m\n"
     ]
    },
    {
     "data": {
      "text/plain": [
       "<bound method NDFrame.head of         Elevation (meters)   Aspect (azimuth)   Slope (degrees)  \\\n",
       "0                     2843                311                19   \n",
       "1                     3190                358                13   \n",
       "2                     3288                296                16   \n",
       "3                     3382                  8                 7   \n",
       "4                     3382                258                 8   \n",
       "...                    ...                ...               ...   \n",
       "570025                3182                 70                13   \n",
       "570026                3172                156                29   \n",
       "570027                3153                287                17   \n",
       "570028                3065                348                21   \n",
       "570029                3021                 26                16   \n",
       "\n",
       "         Horizontal_Distance_To_Hydrology (meters)  \\\n",
       "0                                               30   \n",
       "1                                              552   \n",
       "2                                               67   \n",
       "3                                              272   \n",
       "4                                              350   \n",
       "...                                            ...   \n",
       "570025                                         362   \n",
       "570026                                         716   \n",
       "570027                                         335   \n",
       "570028                                         124   \n",
       "570029                                          60   \n",
       "\n",
       "         Vertical_Distance_To_Hydrology (meters)  \\\n",
       "0                                             10   \n",
       "1                                             57   \n",
       "2                                             16   \n",
       "3                                             19   \n",
       "4                                             47   \n",
       "...                                          ...   \n",
       "570025                                        40   \n",
       "570026                                       291   \n",
       "570027                                        41   \n",
       "570028                                        19   \n",
       "570029                                         7   \n",
       "\n",
       "         Horizontal_Distance_To_Roadways(meters)   Hillshade_9am (0-255)  \\\n",
       "0                                           2850                     167   \n",
       "1                                           4287                     199   \n",
       "2                                           3050                     172   \n",
       "3                                            659                     212   \n",
       "4                                           3561                     201   \n",
       "...                                          ...                     ...   \n",
       "570025                                      2992                     234   \n",
       "570026                                      1154                     237   \n",
       "570027                                      1298                     171   \n",
       "570028                                      4725                     177   \n",
       "570029                                      3961                     211   \n",
       "\n",
       "         Hillshade_Noon (0-255)   Hillshade_3pm (0-255)  \\\n",
       "0                           224                     196   \n",
       "1                           215                     153   \n",
       "2                           233                     200   \n",
       "3                           227                     152   \n",
       "4                           245                     182   \n",
       "...                         ...                     ...   \n",
       "570025                      214                     109   \n",
       "570026                      228                      98   \n",
       "570027                      237                     205   \n",
       "570028                      202                     159   \n",
       "570029                      204                     125   \n",
       "\n",
       "         Horizontal_Distance_To_Fire_Points (meters)  ...   7756 (32/40)  \\\n",
       "0                                               2147  ...              0   \n",
       "1                                               3355  ...              0   \n",
       "2                                                713  ...              0   \n",
       "3                                                832  ...              0   \n",
       "4                                               2305  ...              0   \n",
       "...                                              ...  ...            ...   \n",
       "570025                                          4336  ...              0   \n",
       "570026                                          2837  ...              0   \n",
       "570027                                          2045  ...              1   \n",
       "570028                                           624  ...              0   \n",
       "570029                                          2496  ...              0   \n",
       "\n",
       "         7757 (33/40)   7790 (34/40)   8703 (35/40)   8707 (36/40)  \\\n",
       "0                   0              0              0              0   \n",
       "1                   0              0              0              0   \n",
       "2                   0              0              0              0   \n",
       "3                   0              0              0              0   \n",
       "4                   0              0              0              0   \n",
       "...               ...            ...            ...            ...   \n",
       "570025              0              0              0              0   \n",
       "570026              0              0              0              0   \n",
       "570027              0              0              0              0   \n",
       "570028              0              0              0              0   \n",
       "570029              0              0              0              0   \n",
       "\n",
       "         8708 (37/40)   8771 (38/40)   8772 (39/40)   8776 (40/40)  \\\n",
       "0                   0              0              0              0   \n",
       "1                   0              0              0              0   \n",
       "2                   0              0              0              0   \n",
       "3                   0              0              0              1   \n",
       "4                   0              1              0              0   \n",
       "...               ...            ...            ...            ...   \n",
       "570025              0              0              0              0   \n",
       "570026              0              0              0              0   \n",
       "570027              0              0              0              0   \n",
       "570028              0              0              0              0   \n",
       "570029              0              0              0              0   \n",
       "\n",
       "         Forest Cover Type Classes  \n",
       "0                                2  \n",
       "1                                1  \n",
       "2                                1  \n",
       "3                                2  \n",
       "4                                7  \n",
       "...                            ...  \n",
       "570025                           1  \n",
       "570026                           1  \n",
       "570027                           1  \n",
       "570028                           2  \n",
       "570029                           1  \n",
       "\n",
       "[570030 rows x 55 columns]>"
      ]
     },
     "execution_count": 24,
     "metadata": {},
     "output_type": "execute_result"
    }
   ],
   "source": [
    "import numpy as np \n",
    "import seaborn as sns\n",
    "import matplotlib.pyplot as plt\n",
    "import pandas as pd\n",
    "\n",
    "%matplotlib inline\n",
    "\n",
    "\n",
    "# Helper to print with prettier colors\n",
    "class c:\n",
    "    PURPLE = '\\033[95m'\n",
    "    BLUE = '\\033[94m'\n",
    "    CYAN = '\\033[96m'\n",
    "    GREEN = '\\033[92m'\n",
    "    WARNING = '\\033[93m'\n",
    "    FAIL = '\\033[91m'\n",
    "    END = '\\033[0m'\n",
    "    BOLD = '\\033[1m'\n",
    "    UNDERLINE = '\\033[4m'\n",
    "    \n",
    "print(f\"Printing {c.PURPLE}with {c.GREEN}pretty {c.FAIL}colors{c.END}{c.BOLD}!{c.END}\")\n",
    "# Loading the data\n",
    "df = pd.read_csv('./train_dataset.csv/train_dataset.csv')\n",
    "eval_set = pd.read_csv('./evaluation_dataset.csv/evaluation_dataset.csv')\n",
    "\n",
    "\n",
    "df.head\n"
   ]
  },
  {
   "cell_type": "code",
   "execution_count": 27,
   "metadata": {},
   "outputs": [
    {
     "data": {
      "text/html": [
       "<style>#sk-container-id-10 {color: black;}#sk-container-id-10 pre{padding: 0;}#sk-container-id-10 div.sk-toggleable {background-color: white;}#sk-container-id-10 label.sk-toggleable__label {cursor: pointer;display: block;width: 100%;margin-bottom: 0;padding: 0.3em;box-sizing: border-box;text-align: center;}#sk-container-id-10 label.sk-toggleable__label-arrow:before {content: \"▸\";float: left;margin-right: 0.25em;color: #696969;}#sk-container-id-10 label.sk-toggleable__label-arrow:hover:before {color: black;}#sk-container-id-10 div.sk-estimator:hover label.sk-toggleable__label-arrow:before {color: black;}#sk-container-id-10 div.sk-toggleable__content {max-height: 0;max-width: 0;overflow: hidden;text-align: left;background-color: #f0f8ff;}#sk-container-id-10 div.sk-toggleable__content pre {margin: 0.2em;color: black;border-radius: 0.25em;background-color: #f0f8ff;}#sk-container-id-10 input.sk-toggleable__control:checked~div.sk-toggleable__content {max-height: 200px;max-width: 100%;overflow: auto;}#sk-container-id-10 input.sk-toggleable__control:checked~label.sk-toggleable__label-arrow:before {content: \"▾\";}#sk-container-id-10 div.sk-estimator input.sk-toggleable__control:checked~label.sk-toggleable__label {background-color: #d4ebff;}#sk-container-id-10 div.sk-label input.sk-toggleable__control:checked~label.sk-toggleable__label {background-color: #d4ebff;}#sk-container-id-10 input.sk-hidden--visually {border: 0;clip: rect(1px 1px 1px 1px);clip: rect(1px, 1px, 1px, 1px);height: 1px;margin: -1px;overflow: hidden;padding: 0;position: absolute;width: 1px;}#sk-container-id-10 div.sk-estimator {font-family: monospace;background-color: #f0f8ff;border: 1px dotted black;border-radius: 0.25em;box-sizing: border-box;margin-bottom: 0.5em;}#sk-container-id-10 div.sk-estimator:hover {background-color: #d4ebff;}#sk-container-id-10 div.sk-parallel-item::after {content: \"\";width: 100%;border-bottom: 1px solid gray;flex-grow: 1;}#sk-container-id-10 div.sk-label:hover label.sk-toggleable__label {background-color: #d4ebff;}#sk-container-id-10 div.sk-serial::before {content: \"\";position: absolute;border-left: 1px solid gray;box-sizing: border-box;top: 0;bottom: 0;left: 50%;z-index: 0;}#sk-container-id-10 div.sk-serial {display: flex;flex-direction: column;align-items: center;background-color: white;padding-right: 0.2em;padding-left: 0.2em;position: relative;}#sk-container-id-10 div.sk-item {position: relative;z-index: 1;}#sk-container-id-10 div.sk-parallel {display: flex;align-items: stretch;justify-content: center;background-color: white;position: relative;}#sk-container-id-10 div.sk-item::before, #sk-container-id-10 div.sk-parallel-item::before {content: \"\";position: absolute;border-left: 1px solid gray;box-sizing: border-box;top: 0;bottom: 0;left: 50%;z-index: -1;}#sk-container-id-10 div.sk-parallel-item {display: flex;flex-direction: column;z-index: 1;position: relative;background-color: white;}#sk-container-id-10 div.sk-parallel-item:first-child::after {align-self: flex-end;width: 50%;}#sk-container-id-10 div.sk-parallel-item:last-child::after {align-self: flex-start;width: 50%;}#sk-container-id-10 div.sk-parallel-item:only-child::after {width: 0;}#sk-container-id-10 div.sk-dashed-wrapped {border: 1px dashed gray;margin: 0 0.4em 0.5em 0.4em;box-sizing: border-box;padding-bottom: 0.4em;background-color: white;}#sk-container-id-10 div.sk-label label {font-family: monospace;font-weight: bold;display: inline-block;line-height: 1.2em;}#sk-container-id-10 div.sk-label-container {text-align: center;}#sk-container-id-10 div.sk-container {/* jupyter's `normalize.less` sets `[hidden] { display: none; }` but bootstrap.min.css set `[hidden] { display: none !important; }` so we also need the `!important` here to be able to override the default hidden behavior on the sphinx rendered scikit-learn.org. See: https://github.com/scikit-learn/scikit-learn/issues/21755 */display: inline-block !important;position: relative;}#sk-container-id-10 div.sk-text-repr-fallback {display: none;}</style><div id=\"sk-container-id-10\" class=\"sk-top-container\"><div class=\"sk-text-repr-fallback\"><pre>KNeighborsClassifier(algorithm=&#x27;kd_tree&#x27;, n_neighbors=10, weights=&#x27;distance&#x27;)</pre><b>In a Jupyter environment, please rerun this cell to show the HTML representation or trust the notebook. <br />On GitHub, the HTML representation is unable to render, please try loading this page with nbviewer.org.</b></div><div class=\"sk-container\" hidden><div class=\"sk-item\"><div class=\"sk-estimator sk-toggleable\"><input class=\"sk-toggleable__control sk-hidden--visually\" id=\"sk-estimator-id-10\" type=\"checkbox\" checked><label for=\"sk-estimator-id-10\" class=\"sk-toggleable__label sk-toggleable__label-arrow\">KNeighborsClassifier</label><div class=\"sk-toggleable__content\"><pre>KNeighborsClassifier(algorithm=&#x27;kd_tree&#x27;, n_neighbors=10, weights=&#x27;distance&#x27;)</pre></div></div></div></div></div>"
      ],
      "text/plain": [
       "KNeighborsClassifier(algorithm='kd_tree', n_neighbors=10, weights='distance')"
      ]
     },
     "execution_count": 27,
     "metadata": {},
     "output_type": "execute_result"
    }
   ],
   "source": [
    "from sklearn.neighbors import KNeighborsClassifier\n",
    "from sklearn.model_selection import train_test_split\n",
    "data = df[df.columns[:-1]]\n",
    "target = df[df.columns[-1]]\n",
    "\n",
    "X_train, X_test, y_train, y_test = train_test_split(data, target, test_size=0.20, train_size= 0.80, random_state=42)\n",
    "\n",
    "knn_model = KNeighborsClassifier(n_neighbors = 10, weights= \"distance\", algorithm= \"kd_tree\")\n",
    "\n",
    "small_X_test = ...\n",
    "knn_model.fit(X_train, y_train)\n"
   ]
  },
  {
   "cell_type": "code",
   "execution_count": null,
   "metadata": {},
   "outputs": [],
   "source": []
  },
  {
   "cell_type": "code",
   "execution_count": 28,
   "metadata": {},
   "outputs": [
    {
     "name": "stdout",
     "output_type": "stream",
     "text": [
      "0.9671683946458959\n"
     ]
    }
   ],
   "source": [
    "\n",
    "score = knn_model.score(X_test, y_test)\n",
    "print(score)\n",
    "###evaluation the model \n",
    "eval_data = eval_set[eval_set.columns[:-1]]\n",
    "\n",
    "eval_target = eval_set[eval_set.columns[-1]]\n",
    "\n",
    "#eval_score = knn_model.score(X_test, y_test)"
   ]
  },
  {
   "cell_type": "code",
   "execution_count": 26,
   "metadata": {},
   "outputs": [],
   "source": [
    "#eval_data = eval_set[eval_set.columns[:-1]]\n",
    "\n",
    "#eval_target = eval_set[eval_set.columns[-1]]\n",
    "\n",
    "#eval_score = knn_model.score(eval_data, eval_target)"
   ]
  }
 ],
 "metadata": {
  "kernelspec": {
   "display_name": "Python 3",
   "language": "python",
   "name": "python3"
  },
  "language_info": {
   "codemirror_mode": {
    "name": "ipython",
    "version": 3
   },
   "file_extension": ".py",
   "mimetype": "text/x-python",
   "name": "python",
   "nbconvert_exporter": "python",
   "pygments_lexer": "ipython3",
   "version": "3.11.4"
  }
 },
 "nbformat": 4,
 "nbformat_minor": 2
}
