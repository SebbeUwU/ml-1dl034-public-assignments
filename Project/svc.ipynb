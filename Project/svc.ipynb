{
 "cells": [
  {
   "cell_type": "code",
   "execution_count": 33,
   "metadata": {},
   "outputs": [
    {
     "name": "stdout",
     "output_type": "stream",
     "text": [
      "(57003, 55)\n",
      "0.7122257850573279\n"
     ]
    }
   ],
   "source": [
    "from sklearn import svm\n",
    "from sklearn.model_selection import train_test_split\n",
    "from sklearn.preprocessing import StandardScaler\n",
    "from sklearn.model_selection import cross_val_score\n",
    "import numpy as np \n",
    "import seaborn as sns\n",
    "import matplotlib.pyplot as plt\n",
    "import pandas as pd\n",
    "\n",
    "#\"The fit time scales at least quadratically with the number of samples and may be impractical beyond tens of thousands of samples\" - Sklearn\n",
    "df = pd.read_csv('train_dataset.csv.gz').sample(frac=0.1, random_state=42)\n",
    "data = df[df.columns[:-1]]\n",
    "data = StandardScaler(copy=True).fit(data).transform(data)\n",
    "target = df[df.columns[-1]]\n",
    "#if features are not separate from target:\n",
    "\"\"\" \n",
    "def support_vector_machine(data):\n",
    "    #\"The fit time scales at least quadratically with the number of samples and may be impractical beyond tens of thousands of samples\" - Sklearn\n",
    "    features = df[df.columns[:-1]] \n",
    "    target = df[df.columns[-1]]\n",
    "    X_train, X_test, y_train, y_test = train_test_split(features, target, test_size=0.2, random_state=42)\n",
    "    svc = svm.SVC(random_state=42).fit(X_train, y_train)\n",
    "    return svc.score(X_test, y_test)\n",
    "def support_vector_machine_cv(data):\n",
    "    #\"The fit time scales at least quadratically with the number of samples and may be impractical beyond tens of thousands of samples\" - Sklearn\n",
    "    features = df[df.columns[:-1]]\n",
    "    target = df[df.columns[-1]]\n",
    "    svc = svm.SVC(random_state=42)\n",
    "    return np.mean(cross_val_score(svc, features, target, cv= 5))\n",
    "\n",
    "def linear_support_vector_machine(data):\n",
    "    features = df[df.columns[:-1]]\n",
    "    target = df[df.columns[-1]]\n",
    "    X_train, X_test, y_train, y_test = train_test_split(features, target, test_size=0.2, random_state=32)\n",
    "    lsvc = svm.LinearSVC(random_state=42, max_iter=2000, dual=\"auto\").fit(X_train,y_train) #max_iter needs to be > default to converge on entire dataset, here 2x\n",
    "    return lsvc.score(X_test, y_test)\n",
    "\n",
    "def linear_support_vector_machine_cv(data):\n",
    "    features = df[df.columns[:-1]]\n",
    "    target = df[df.columns[-1]]\n",
    "    lsvc = svm.LinearSVC(random_state=42, max_iter=2000, dual=\"auto\") #max_iter needs to be > default to converge on entire dataset, here 2x\n",
    "    return np.mean(cross_val_score(lsvc, features, target, cv= 5))\n",
    " \"\"\"\n",
    "#if features are separate from target:\n",
    "def support_vector_machine(features, target):\n",
    "    #\"The fit time scales at least quadratically with the number of samples and may be impractical beyond tens of thousands of samples\" - Sklearn\n",
    "    #could potentially swap to nyström approximation of kernel\n",
    "    X_train, X_test, y_train, y_test = train_test_split(features, target, test_size=0.2, random_state=42)\n",
    "    svc = svm.SVC(random_state=42).fit(X_train, y_train)\n",
    "    return svc.score(X_test, y_test)\n",
    "\n",
    "def support_vector_machine_cv(features, target):\n",
    "    #\"The fit time scales at least quadratically with the number of samples and may be impractical beyond tens of thousands of samples\" - Sklearn\n",
    "    svc = svm.SVC(random_state=42)\n",
    "    return np.mean(cross_val_score(svc, features, target, cv= 5))\n",
    "\n",
    "def linear_support_vector_machine(features, target):\n",
    "    X_train, X_test, y_train, y_test = train_test_split(features, target, test_size=0.2, random_state=32)\n",
    "    lsvc = svm.LinearSVC(random_state=42, max_iter=2000, dual=\"auto\").fit(X_train,y_train) #max_iter needs to be > default to converge on entire dataset, here 2x\n",
    "    return lsvc.score(X_test, y_test)\n",
    "\n",
    "def linear_support_vector_machine_cv(features, target):\n",
    "    lsvc = svm.LinearSVC(random_state=42, max_iter=2000, dual=\"auto\") #max_iter needs to be > default to converge on entire dataset, here 2x\n",
    "    return np.mean(cross_val_score(lsvc, features, target, cv= 5))\n",
    "\n",
    "print(linear_support_vector_machine_cv(data, df[df.columns[-1]]))"
   ]
  }
 ],
 "metadata": {
  "kernelspec": {
   "display_name": "Python 3",
   "language": "python",
   "name": "python3"
  },
  "language_info": {
   "codemirror_mode": {
    "name": "ipython",
    "version": 3
   },
   "file_extension": ".py",
   "mimetype": "text/x-python",
   "name": "python",
   "nbconvert_exporter": "python",
   "pygments_lexer": "ipython3",
   "version": "3.11.2"
  }
 },
 "nbformat": 4,
 "nbformat_minor": 2
}
